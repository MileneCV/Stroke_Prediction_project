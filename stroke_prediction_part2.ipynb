{
  "nbformat": 4,
  "nbformat_minor": 0,
  "metadata": {
    "colab": {
      "provenance": [],
      "collapsed_sections": [],
      "toc_visible": true,
      "authorship_tag": "ABX9TyMyTVt3RQfyIyntJrGcStSC",
      "include_colab_link": true
    },
    "kernelspec": {
      "name": "python3",
      "display_name": "Python 3"
    },
    "language_info": {
      "name": "python"
    }
  },
  "cells": [
    {
      "cell_type": "markdown",
      "metadata": {
        "id": "view-in-github",
        "colab_type": "text"
      },
      "source": [
        "<a href=\"https://colab.research.google.com/github/MileneCV/Stroke_Prediction_project_2/blob/main/stroke_prediction_part2.ipynb\" target=\"_parent\"><img src=\"https://colab.research.google.com/assets/colab-badge.svg\" alt=\"Open In Colab\"/></a>"
      ]
    },
    {
      "cell_type": "markdown",
      "source": [
        "**name:** Milene Carmes Vallejo\n",
        "\n",
        "**last updated:** 11/4/2022\n",
        "\n",
        "# Stroke Prediction Dataset \n",
        "\n",
        "\n"
      ],
      "metadata": {
        "id": "OIWnn3a9cVmj"
      }
    },
    {
      "cell_type": "markdown",
      "source": [
        "## Project Description \n",
        "\n",
        "This dataset will be used to predict whether a patient is likely to get stroke based in these informations:  \n",
        "\n"
      ],
      "metadata": {
        "id": "DBbKMn2jq3Wu"
      }
    },
    {
      "cell_type": "markdown",
      "source": [
        "## Data Dictionary\n",
        "1) **id:** unique identifier\n",
        "\n",
        "2) **gender:** \"Male\", \"Female\" or \"Other\"\n",
        "\n",
        "3) **age:** age of the patient\n",
        "\n",
        "4) **hypertension:** 0 if the patient doesn't have hypertension, 1 if the patient has hypertension\n",
        "\n",
        "5) **heart_disease:** 0 if the patient doesn't have any heart diseases, 1 if the patient has a heart disease\n",
        "\n",
        "6) **ever_married:** \"No\" or \"Yes\"\n",
        "\n",
        "7) **work_type:** \"children\", \"Govt_jov\", \"Never_worked\", \"Private\" or \"Self-employed\"\n",
        "\n",
        "8) **Residence_type:** \"Rural\" or \"Urban\"\n",
        "\n",
        "9)** avg_glucose_level:** average glucose level in blood\n",
        "\n",
        "10) **bmi:** body mass index\n",
        "\n",
        "11) **smoking_status:** \"formerly smoked\", \"never smoked\", \"smokes\" or \"Unknown\"*\n",
        "\n",
        "12) **stroke:**1 if the patient had a stroke or 0 if not\n",
        "\n",
        "*Note: \"Unknown\" in smoking_status means that the information is unavailable for this patient"
      ],
      "metadata": {
        "id": "iQOIO2Rl5AFo"
      }
    },
    {
      "cell_type": "markdown",
      "source": [
        "## Import libraries"
      ],
      "metadata": {
        "id": "xNPNgWCIr5HF"
      }
    },
    {
      "cell_type": "code",
      "source": [
        "import pandas as pd \n",
        "from google.colab import drive\n",
        "import pandas as pd\n",
        "import matplotlib.pyplot as plt\n",
        "import seaborn as sns\n",
        "\n"
      ],
      "metadata": {
        "id": "P2XYj6t68UQu"
      },
      "execution_count": 279,
      "outputs": []
    },
    {
      "cell_type": "markdown",
      "source": [
        "## Load data"
      ],
      "metadata": {
        "id": "SQAsP87GsAfm"
      }
    },
    {
      "cell_type": "code",
      "source": [
        "drive.mount('/content/drive')\n",
        "filename = '/content/drive/My Drive/stroke_prediction_dataset.csv'\n",
        "df = pd.read_csv(filename)"
      ],
      "metadata": {
        "colab": {
          "base_uri": "https://localhost:8080/"
        },
        "id": "vUF0ltV-CGl9",
        "outputId": "24d1d548-2bc9-4c1b-f600-ab24246f1252"
      },
      "execution_count": 280,
      "outputs": [
        {
          "output_type": "stream",
          "name": "stdout",
          "text": [
            "Drive already mounted at /content/drive; to attempt to forcibly remount, call drive.mount(\"/content/drive\", force_remount=True).\n"
          ]
        }
      ]
    },
    {
      "cell_type": "code",
      "source": [
        "# make a copy\n",
        "df_copy = df.copy()"
      ],
      "metadata": {
        "id": "3hL1I3WA5OLn"
      },
      "execution_count": 281,
      "outputs": []
    },
    {
      "cell_type": "code",
      "source": [
        "df_copy.head()"
      ],
      "metadata": {
        "colab": {
          "base_uri": "https://localhost:8080/",
          "height": 305
        },
        "id": "zklNRKfM9Hkb",
        "outputId": "e8c7d321-cb66-4898-a27c-d2bdcbbabdbc"
      },
      "execution_count": 282,
      "outputs": [
        {
          "output_type": "execute_result",
          "data": {
            "text/plain": [
              "      id  gender   age  hypertension  heart_disease ever_married  \\\n",
              "0   9046    Male  67.0             0              1          Yes   \n",
              "1  51676  Female  61.0             0              0          Yes   \n",
              "2  31112    Male  80.0             0              1          Yes   \n",
              "3  60182  Female  49.0             0              0          Yes   \n",
              "4   1665  Female  79.0             1              0          Yes   \n",
              "\n",
              "       work_type Residence_type  avg_glucose_level   bmi   smoking_status  \\\n",
              "0        Private          Urban             228.69  36.6  formerly smoked   \n",
              "1  Self-employed          Rural             202.21   NaN     never smoked   \n",
              "2        Private          Rural             105.92  32.5     never smoked   \n",
              "3        Private          Urban             171.23  34.4           smokes   \n",
              "4  Self-employed          Rural             174.12  24.0     never smoked   \n",
              "\n",
              "   stroke  \n",
              "0       1  \n",
              "1       1  \n",
              "2       1  \n",
              "3       1  \n",
              "4       1  "
            ],
            "text/html": [
              "\n",
              "  <div id=\"df-d9e45573-b864-4e8e-a506-24d3e7beb6f2\">\n",
              "    <div class=\"colab-df-container\">\n",
              "      <div>\n",
              "<style scoped>\n",
              "    .dataframe tbody tr th:only-of-type {\n",
              "        vertical-align: middle;\n",
              "    }\n",
              "\n",
              "    .dataframe tbody tr th {\n",
              "        vertical-align: top;\n",
              "    }\n",
              "\n",
              "    .dataframe thead th {\n",
              "        text-align: right;\n",
              "    }\n",
              "</style>\n",
              "<table border=\"1\" class=\"dataframe\">\n",
              "  <thead>\n",
              "    <tr style=\"text-align: right;\">\n",
              "      <th></th>\n",
              "      <th>id</th>\n",
              "      <th>gender</th>\n",
              "      <th>age</th>\n",
              "      <th>hypertension</th>\n",
              "      <th>heart_disease</th>\n",
              "      <th>ever_married</th>\n",
              "      <th>work_type</th>\n",
              "      <th>Residence_type</th>\n",
              "      <th>avg_glucose_level</th>\n",
              "      <th>bmi</th>\n",
              "      <th>smoking_status</th>\n",
              "      <th>stroke</th>\n",
              "    </tr>\n",
              "  </thead>\n",
              "  <tbody>\n",
              "    <tr>\n",
              "      <th>0</th>\n",
              "      <td>9046</td>\n",
              "      <td>Male</td>\n",
              "      <td>67.0</td>\n",
              "      <td>0</td>\n",
              "      <td>1</td>\n",
              "      <td>Yes</td>\n",
              "      <td>Private</td>\n",
              "      <td>Urban</td>\n",
              "      <td>228.69</td>\n",
              "      <td>36.6</td>\n",
              "      <td>formerly smoked</td>\n",
              "      <td>1</td>\n",
              "    </tr>\n",
              "    <tr>\n",
              "      <th>1</th>\n",
              "      <td>51676</td>\n",
              "      <td>Female</td>\n",
              "      <td>61.0</td>\n",
              "      <td>0</td>\n",
              "      <td>0</td>\n",
              "      <td>Yes</td>\n",
              "      <td>Self-employed</td>\n",
              "      <td>Rural</td>\n",
              "      <td>202.21</td>\n",
              "      <td>NaN</td>\n",
              "      <td>never smoked</td>\n",
              "      <td>1</td>\n",
              "    </tr>\n",
              "    <tr>\n",
              "      <th>2</th>\n",
              "      <td>31112</td>\n",
              "      <td>Male</td>\n",
              "      <td>80.0</td>\n",
              "      <td>0</td>\n",
              "      <td>1</td>\n",
              "      <td>Yes</td>\n",
              "      <td>Private</td>\n",
              "      <td>Rural</td>\n",
              "      <td>105.92</td>\n",
              "      <td>32.5</td>\n",
              "      <td>never smoked</td>\n",
              "      <td>1</td>\n",
              "    </tr>\n",
              "    <tr>\n",
              "      <th>3</th>\n",
              "      <td>60182</td>\n",
              "      <td>Female</td>\n",
              "      <td>49.0</td>\n",
              "      <td>0</td>\n",
              "      <td>0</td>\n",
              "      <td>Yes</td>\n",
              "      <td>Private</td>\n",
              "      <td>Urban</td>\n",
              "      <td>171.23</td>\n",
              "      <td>34.4</td>\n",
              "      <td>smokes</td>\n",
              "      <td>1</td>\n",
              "    </tr>\n",
              "    <tr>\n",
              "      <th>4</th>\n",
              "      <td>1665</td>\n",
              "      <td>Female</td>\n",
              "      <td>79.0</td>\n",
              "      <td>1</td>\n",
              "      <td>0</td>\n",
              "      <td>Yes</td>\n",
              "      <td>Self-employed</td>\n",
              "      <td>Rural</td>\n",
              "      <td>174.12</td>\n",
              "      <td>24.0</td>\n",
              "      <td>never smoked</td>\n",
              "      <td>1</td>\n",
              "    </tr>\n",
              "  </tbody>\n",
              "</table>\n",
              "</div>\n",
              "      <button class=\"colab-df-convert\" onclick=\"convertToInteractive('df-d9e45573-b864-4e8e-a506-24d3e7beb6f2')\"\n",
              "              title=\"Convert this dataframe to an interactive table.\"\n",
              "              style=\"display:none;\">\n",
              "        \n",
              "  <svg xmlns=\"http://www.w3.org/2000/svg\" height=\"24px\"viewBox=\"0 0 24 24\"\n",
              "       width=\"24px\">\n",
              "    <path d=\"M0 0h24v24H0V0z\" fill=\"none\"/>\n",
              "    <path d=\"M18.56 5.44l.94 2.06.94-2.06 2.06-.94-2.06-.94-.94-2.06-.94 2.06-2.06.94zm-11 1L8.5 8.5l.94-2.06 2.06-.94-2.06-.94L8.5 2.5l-.94 2.06-2.06.94zm10 10l.94 2.06.94-2.06 2.06-.94-2.06-.94-.94-2.06-.94 2.06-2.06.94z\"/><path d=\"M17.41 7.96l-1.37-1.37c-.4-.4-.92-.59-1.43-.59-.52 0-1.04.2-1.43.59L10.3 9.45l-7.72 7.72c-.78.78-.78 2.05 0 2.83L4 21.41c.39.39.9.59 1.41.59.51 0 1.02-.2 1.41-.59l7.78-7.78 2.81-2.81c.8-.78.8-2.07 0-2.86zM5.41 20L4 18.59l7.72-7.72 1.47 1.35L5.41 20z\"/>\n",
              "  </svg>\n",
              "      </button>\n",
              "      \n",
              "  <style>\n",
              "    .colab-df-container {\n",
              "      display:flex;\n",
              "      flex-wrap:wrap;\n",
              "      gap: 12px;\n",
              "    }\n",
              "\n",
              "    .colab-df-convert {\n",
              "      background-color: #E8F0FE;\n",
              "      border: none;\n",
              "      border-radius: 50%;\n",
              "      cursor: pointer;\n",
              "      display: none;\n",
              "      fill: #1967D2;\n",
              "      height: 32px;\n",
              "      padding: 0 0 0 0;\n",
              "      width: 32px;\n",
              "    }\n",
              "\n",
              "    .colab-df-convert:hover {\n",
              "      background-color: #E2EBFA;\n",
              "      box-shadow: 0px 1px 2px rgba(60, 64, 67, 0.3), 0px 1px 3px 1px rgba(60, 64, 67, 0.15);\n",
              "      fill: #174EA6;\n",
              "    }\n",
              "\n",
              "    [theme=dark] .colab-df-convert {\n",
              "      background-color: #3B4455;\n",
              "      fill: #D2E3FC;\n",
              "    }\n",
              "\n",
              "    [theme=dark] .colab-df-convert:hover {\n",
              "      background-color: #434B5C;\n",
              "      box-shadow: 0px 1px 3px 1px rgba(0, 0, 0, 0.15);\n",
              "      filter: drop-shadow(0px 1px 2px rgba(0, 0, 0, 0.3));\n",
              "      fill: #FFFFFF;\n",
              "    }\n",
              "  </style>\n",
              "\n",
              "      <script>\n",
              "        const buttonEl =\n",
              "          document.querySelector('#df-d9e45573-b864-4e8e-a506-24d3e7beb6f2 button.colab-df-convert');\n",
              "        buttonEl.style.display =\n",
              "          google.colab.kernel.accessAllowed ? 'block' : 'none';\n",
              "\n",
              "        async function convertToInteractive(key) {\n",
              "          const element = document.querySelector('#df-d9e45573-b864-4e8e-a506-24d3e7beb6f2');\n",
              "          const dataTable =\n",
              "            await google.colab.kernel.invokeFunction('convertToInteractive',\n",
              "                                                     [key], {});\n",
              "          if (!dataTable) return;\n",
              "\n",
              "          const docLinkHtml = 'Like what you see? Visit the ' +\n",
              "            '<a target=\"_blank\" href=https://colab.research.google.com/notebooks/data_table.ipynb>data table notebook</a>'\n",
              "            + ' to learn more about interactive tables.';\n",
              "          element.innerHTML = '';\n",
              "          dataTable['output_type'] = 'display_data';\n",
              "          await google.colab.output.renderOutput(dataTable, element);\n",
              "          const docLink = document.createElement('div');\n",
              "          docLink.innerHTML = docLinkHtml;\n",
              "          element.appendChild(docLink);\n",
              "        }\n",
              "      </script>\n",
              "    </div>\n",
              "  </div>\n",
              "  "
            ]
          },
          "metadata": {},
          "execution_count": 282
        }
      ]
    },
    {
      "cell_type": "code",
      "source": [
        "# copy df\n",
        "df_copy.shape"
      ],
      "metadata": {
        "colab": {
          "base_uri": "https://localhost:8080/"
        },
        "id": "UZfv9O-UdklZ",
        "outputId": "fb29e147-6495-46e1-ef22-34686abd334a"
      },
      "execution_count": 283,
      "outputs": [
        {
          "output_type": "execute_result",
          "data": {
            "text/plain": [
              "(5110, 12)"
            ]
          },
          "metadata": {},
          "execution_count": 283
        }
      ]
    },
    {
      "cell_type": "markdown",
      "source": [
        "## Prepare/clean the data"
      ],
      "metadata": {
        "id": "mHF9kNIQsItN"
      }
    },
    {
      "cell_type": "markdown",
      "source": [
        "### Dropping unnecessary columns.\n",
        "\n",
        "- We will drop the `id` column since this column is a unique identifier. \n",
        "- We will then check `df_copy.info()` again to make sure that the column is dropped."
      ],
      "metadata": {
        "id": "ZSdW9KJl64Yl"
      }
    },
    {
      "cell_type": "code",
      "source": [
        "df_copy = df_copy.drop(columns='id')\n",
        "df_copy.info()\n"
      ],
      "metadata": {
        "id": "RHC4g1kc5uAd",
        "colab": {
          "base_uri": "https://localhost:8080/"
        },
        "outputId": "c5f11ca3-eee1-4d82-aa61-1354a7f24737"
      },
      "execution_count": 284,
      "outputs": [
        {
          "output_type": "stream",
          "name": "stdout",
          "text": [
            "<class 'pandas.core.frame.DataFrame'>\n",
            "RangeIndex: 5110 entries, 0 to 5109\n",
            "Data columns (total 11 columns):\n",
            " #   Column             Non-Null Count  Dtype  \n",
            "---  ------             --------------  -----  \n",
            " 0   gender             5110 non-null   object \n",
            " 1   age                5110 non-null   float64\n",
            " 2   hypertension       5110 non-null   int64  \n",
            " 3   heart_disease      5110 non-null   int64  \n",
            " 4   ever_married       5110 non-null   object \n",
            " 5   work_type          5110 non-null   object \n",
            " 6   Residence_type     5110 non-null   object \n",
            " 7   avg_glucose_level  5110 non-null   float64\n",
            " 8   bmi                4909 non-null   float64\n",
            " 9   smoking_status     5110 non-null   object \n",
            " 10  stroke             5110 non-null   int64  \n",
            "dtypes: float64(3), int64(3), object(5)\n",
            "memory usage: 439.3+ KB\n"
          ]
        }
      ]
    },
    {
      "cell_type": "markdown",
      "source": [
        "### Duplicated Data\n",
        "Checking for duplicated data:"
      ],
      "metadata": {
        "id": "6QsLUEQO8Yis"
      }
    },
    {
      "cell_type": "code",
      "source": [
        "df_copy.duplicated().sum()"
      ],
      "metadata": {
        "colab": {
          "base_uri": "https://localhost:8080/"
        },
        "id": "gTfX-1QTeFcQ",
        "outputId": "c4aa82c2-39e0-4c8f-f658-22db08938c94"
      },
      "execution_count": 285,
      "outputs": [
        {
          "output_type": "execute_result",
          "data": {
            "text/plain": [
              "0"
            ]
          },
          "metadata": {},
          "execution_count": 285
        }
      ]
    },
    {
      "cell_type": "markdown",
      "source": [
        "There is no duplicates in the dataset"
      ],
      "metadata": {
        "id": "np9wJIzD82l6"
      }
    },
    {
      "cell_type": "markdown",
      "source": [
        "### Missing Values\n",
        "Checking for missing values:\n"
      ],
      "metadata": {
        "id": "ySlo92xz9A8K"
      }
    },
    {
      "cell_type": "code",
      "source": [
        "df_copy.isna().sum()"
      ],
      "metadata": {
        "colab": {
          "base_uri": "https://localhost:8080/"
        },
        "id": "YbPmKkvad1Kg",
        "outputId": "81a885b9-e976-43d3-cac6-df9fcbc39010"
      },
      "execution_count": 286,
      "outputs": [
        {
          "output_type": "execute_result",
          "data": {
            "text/plain": [
              "gender                 0\n",
              "age                    0\n",
              "hypertension           0\n",
              "heart_disease          0\n",
              "ever_married           0\n",
              "work_type              0\n",
              "Residence_type         0\n",
              "avg_glucose_level      0\n",
              "bmi                  201\n",
              "smoking_status         0\n",
              "stroke                 0\n",
              "dtype: int64"
            ]
          },
          "metadata": {},
          "execution_count": 286
        }
      ]
    },
    {
      "cell_type": "markdown",
      "source": [
        "Identifying % of missing data"
      ],
      "metadata": {
        "id": "Crgq8UKV9Vnb"
      }
    },
    {
      "cell_type": "code",
      "source": [
        "df_copy.isna().sum()/len(df_copy)*100"
      ],
      "metadata": {
        "colab": {
          "base_uri": "https://localhost:8080/"
        },
        "id": "XqNJ7CTo9ZXR",
        "outputId": "51df9322-a11c-48fd-afc8-e9b731433f39"
      },
      "execution_count": 287,
      "outputs": [
        {
          "output_type": "execute_result",
          "data": {
            "text/plain": [
              "gender               0.000000\n",
              "age                  0.000000\n",
              "hypertension         0.000000\n",
              "heart_disease        0.000000\n",
              "ever_married         0.000000\n",
              "work_type            0.000000\n",
              "Residence_type       0.000000\n",
              "avg_glucose_level    0.000000\n",
              "bmi                  3.933464\n",
              "smoking_status       0.000000\n",
              "stroke               0.000000\n",
              "dtype: float64"
            ]
          },
          "metadata": {},
          "execution_count": 287
        }
      ]
    },
    {
      "cell_type": "markdown",
      "source": [
        "There are 201 missing values in bmi column (3.93%). We will fill in the missing values with the mean of bmi. "
      ],
      "metadata": {
        "id": "JeOSSAsc-T3H"
      }
    },
    {
      "cell_type": "code",
      "source": [
        "# find mean of bmi\n",
        "mean_bmi = df_copy['bmi'].mean()\n",
        "mean_bmi"
      ],
      "metadata": {
        "colab": {
          "base_uri": "https://localhost:8080/"
        },
        "id": "rQ7Fad7S7Vcl",
        "outputId": "bd0530a2-c97c-4cfb-f1c4-2a155fc58fcb"
      },
      "execution_count": 288,
      "outputs": [
        {
          "output_type": "execute_result",
          "data": {
            "text/plain": [
              "28.893236911794666"
            ]
          },
          "metadata": {},
          "execution_count": 288
        }
      ]
    },
    {
      "cell_type": "code",
      "source": [
        "# replace Nan in bmi column by mean_bmi\n",
        "df_copy['bmi'].fillna(mean_bmi, inplace=True)"
      ],
      "metadata": {
        "id": "pd7DN7QX7pRM"
      },
      "execution_count": 289,
      "outputs": []
    },
    {
      "cell_type": "markdown",
      "source": [
        "- Checking to make sure the values for the `bmi` column were filled in."
      ],
      "metadata": {
        "id": "9zI5LIwt_PbL"
      }
    },
    {
      "cell_type": "code",
      "source": [
        "df_copy.isna().sum()"
      ],
      "metadata": {
        "colab": {
          "base_uri": "https://localhost:8080/"
        },
        "id": "U2ui0vf08DBz",
        "outputId": "d890052d-0f19-4e7e-9ae4-812c193c077f"
      },
      "execution_count": 290,
      "outputs": [
        {
          "output_type": "execute_result",
          "data": {
            "text/plain": [
              "gender               0\n",
              "age                  0\n",
              "hypertension         0\n",
              "heart_disease        0\n",
              "ever_married         0\n",
              "work_type            0\n",
              "Residence_type       0\n",
              "avg_glucose_level    0\n",
              "bmi                  0\n",
              "smoking_status       0\n",
              "stroke               0\n",
              "dtype: int64"
            ]
          },
          "metadata": {},
          "execution_count": 290
        }
      ]
    },
    {
      "cell_type": "markdown",
      "source": [
        "### Fixing Data Types\n",
        "\n",
        "- We will now address the data types and make sure that they match the data dictionary."
      ],
      "metadata": {
        "id": "lJ4Lkz2O_A34"
      }
    },
    {
      "cell_type": "code",
      "source": [
        "df_copy.dtypes"
      ],
      "metadata": {
        "colab": {
          "base_uri": "https://localhost:8080/"
        },
        "id": "JOYDgScn9YLr",
        "outputId": "c1f38fa6-742e-462a-bec0-edd2765f3b65"
      },
      "execution_count": 291,
      "outputs": [
        {
          "output_type": "execute_result",
          "data": {
            "text/plain": [
              "gender                object\n",
              "age                  float64\n",
              "hypertension           int64\n",
              "heart_disease          int64\n",
              "ever_married          object\n",
              "work_type             object\n",
              "Residence_type        object\n",
              "avg_glucose_level    float64\n",
              "bmi                  float64\n",
              "smoking_status        object\n",
              "stroke                 int64\n",
              "dtype: object"
            ]
          },
          "metadata": {},
          "execution_count": 291
        }
      ]
    },
    {
      "cell_type": "markdown",
      "source": [
        "###Fixing any inconsistent values in columns"
      ],
      "metadata": {
        "id": "Fc2RO12u_xhv"
      }
    },
    {
      "cell_type": "markdown",
      "source": [
        "#### Categorical columns"
      ],
      "metadata": {
        "id": "8MdxzmeYAO3X"
      }
    },
    {
      "cell_type": "code",
      "source": [
        "# find categorical columns\n",
        "df_types = df_copy.dtypes\n",
        "string_cols = df_types[df_copy.dtypes=='object'].index\n",
        "string_cols"
      ],
      "metadata": {
        "colab": {
          "base_uri": "https://localhost:8080/"
        },
        "id": "C-UKeHIB_-DH",
        "outputId": "4e6f9e82-ead0-4d7e-bee5-056ea828b082"
      },
      "execution_count": 292,
      "outputs": [
        {
          "output_type": "execute_result",
          "data": {
            "text/plain": [
              "Index(['gender', 'ever_married', 'work_type', 'Residence_type',\n",
              "       'smoking_status'],\n",
              "      dtype='object')"
            ]
          },
          "metadata": {},
          "execution_count": 292
        }
      ]
    },
    {
      "cell_type": "markdown",
      "source": [
        "##### **gender column**"
      ],
      "metadata": {
        "id": "a63ZQa3bAsS1"
      }
    },
    {
      "cell_type": "code",
      "source": [
        "df_copy['gender'].unique()"
      ],
      "metadata": {
        "colab": {
          "base_uri": "https://localhost:8080/"
        },
        "id": "qZInKqDUAinW",
        "outputId": "5d7c0fce-7bc4-49ce-e4b9-75d4c5308f4e"
      },
      "execution_count": 293,
      "outputs": [
        {
          "output_type": "execute_result",
          "data": {
            "text/plain": [
              "array(['Male', 'Female', 'Other'], dtype=object)"
            ]
          },
          "metadata": {},
          "execution_count": 293
        }
      ]
    },
    {
      "cell_type": "markdown",
      "source": [
        "##### **ever_married column**"
      ],
      "metadata": {
        "id": "f4UoHHqjBeic"
      }
    },
    {
      "cell_type": "code",
      "source": [
        "df_copy['ever_married'].unique()"
      ],
      "metadata": {
        "colab": {
          "base_uri": "https://localhost:8080/"
        },
        "id": "UgMkbsL-BFP-",
        "outputId": "e880c25d-a045-4eb5-dfc2-81ee9aeb1439"
      },
      "execution_count": 294,
      "outputs": [
        {
          "output_type": "execute_result",
          "data": {
            "text/plain": [
              "array(['Yes', 'No'], dtype=object)"
            ]
          },
          "metadata": {},
          "execution_count": 294
        }
      ]
    },
    {
      "cell_type": "markdown",
      "source": [
        "##### **work_type column**"
      ],
      "metadata": {
        "id": "Fi5J7T0-BlUr"
      }
    },
    {
      "cell_type": "code",
      "source": [
        "df_copy['work_type'].unique()"
      ],
      "metadata": {
        "colab": {
          "base_uri": "https://localhost:8080/"
        },
        "id": "VpVWTuscBJTW",
        "outputId": "5fd35b9c-8ac3-46c3-a546-857fbb8243e4"
      },
      "execution_count": 295,
      "outputs": [
        {
          "output_type": "execute_result",
          "data": {
            "text/plain": [
              "array(['Private', 'Self-employed', 'Govt_job', 'children', 'Never_worked'],\n",
              "      dtype=object)"
            ]
          },
          "metadata": {},
          "execution_count": 295
        }
      ]
    },
    {
      "cell_type": "markdown",
      "source": [
        "##### **Residence_type column**"
      ],
      "metadata": {
        "id": "usVoCmfaB0bN"
      }
    },
    {
      "cell_type": "code",
      "source": [
        "df_copy['Residence_type'].unique()"
      ],
      "metadata": {
        "colab": {
          "base_uri": "https://localhost:8080/"
        },
        "id": "XICdxBzYBO2V",
        "outputId": "b4a01cb1-29d5-42e2-caaf-d5d98378d62d"
      },
      "execution_count": 296,
      "outputs": [
        {
          "output_type": "execute_result",
          "data": {
            "text/plain": [
              "array(['Urban', 'Rural'], dtype=object)"
            ]
          },
          "metadata": {},
          "execution_count": 296
        }
      ]
    },
    {
      "cell_type": "markdown",
      "source": [
        "##### **smoking_status column**"
      ],
      "metadata": {
        "id": "B7gEygpMCY0i"
      }
    },
    {
      "cell_type": "code",
      "source": [
        "df_copy['smoking_status'].unique()"
      ],
      "metadata": {
        "colab": {
          "base_uri": "https://localhost:8080/"
        },
        "id": "GPL94P_eBRC8",
        "outputId": "85a0be54-f34a-41a4-9409-93c0416b81ea"
      },
      "execution_count": 297,
      "outputs": [
        {
          "output_type": "execute_result",
          "data": {
            "text/plain": [
              "array(['formerly smoked', 'never smoked', 'smokes', 'Unknown'],\n",
              "      dtype=object)"
            ]
          },
          "metadata": {},
          "execution_count": 297
        }
      ]
    },
    {
      "cell_type": "markdown",
      "source": [
        "#### Float columns"
      ],
      "metadata": {
        "id": "NnQMK3fOClZ2"
      }
    },
    {
      "cell_type": "code",
      "source": [
        "# find float columns\n",
        "float_cols = df_types[df_copy.dtypes=='float'].index\n",
        "float_cols"
      ],
      "metadata": {
        "colab": {
          "base_uri": "https://localhost:8080/"
        },
        "id": "MqFZEhzECzRT",
        "outputId": "008ead79-1454-43d1-e31d-772de9529966"
      },
      "execution_count": 298,
      "outputs": [
        {
          "output_type": "execute_result",
          "data": {
            "text/plain": [
              "Index(['age', 'avg_glucose_level', 'bmi'], dtype='object')"
            ]
          },
          "metadata": {},
          "execution_count": 298
        }
      ]
    },
    {
      "cell_type": "markdown",
      "source": [
        "##### **Age column**"
      ],
      "metadata": {
        "id": "yHFYEk4bDB1D"
      }
    },
    {
      "cell_type": "code",
      "source": [
        "df_copy['age'].describe()"
      ],
      "metadata": {
        "colab": {
          "base_uri": "https://localhost:8080/"
        },
        "id": "4ZW_NPbxDG-L",
        "outputId": "8ae72d02-d0b1-4b56-dfe1-e18f43b25720"
      },
      "execution_count": 299,
      "outputs": [
        {
          "output_type": "execute_result",
          "data": {
            "text/plain": [
              "count    5110.000000\n",
              "mean       43.226614\n",
              "std        22.612647\n",
              "min         0.080000\n",
              "25%        25.000000\n",
              "50%        45.000000\n",
              "75%        61.000000\n",
              "max        82.000000\n",
              "Name: age, dtype: float64"
            ]
          },
          "metadata": {},
          "execution_count": 299
        }
      ]
    },
    {
      "cell_type": "markdown",
      "source": [
        "##### **Avg_glucose_level column**"
      ],
      "metadata": {
        "id": "4XmRzyarDaom"
      }
    },
    {
      "cell_type": "code",
      "source": [
        "df_copy['avg_glucose_level'].describe()"
      ],
      "metadata": {
        "colab": {
          "base_uri": "https://localhost:8080/"
        },
        "id": "mZ98IBaQDjnL",
        "outputId": "7923cc27-dd84-42c7-c16a-a24899c4e6be"
      },
      "execution_count": 300,
      "outputs": [
        {
          "output_type": "execute_result",
          "data": {
            "text/plain": [
              "count    5110.000000\n",
              "mean      106.147677\n",
              "std        45.283560\n",
              "min        55.120000\n",
              "25%        77.245000\n",
              "50%        91.885000\n",
              "75%       114.090000\n",
              "max       271.740000\n",
              "Name: avg_glucose_level, dtype: float64"
            ]
          },
          "metadata": {},
          "execution_count": 300
        }
      ]
    },
    {
      "cell_type": "markdown",
      "source": [
        "##### **bmi**"
      ],
      "metadata": {
        "id": "O7_gReuID3vs"
      }
    },
    {
      "cell_type": "code",
      "source": [
        "df_copy['bmi'].describe()"
      ],
      "metadata": {
        "colab": {
          "base_uri": "https://localhost:8080/"
        },
        "id": "KRh2GQOMD7Nk",
        "outputId": "5ef031c5-fcb1-45e9-ac48-01733428fd17"
      },
      "execution_count": 301,
      "outputs": [
        {
          "output_type": "execute_result",
          "data": {
            "text/plain": [
              "count    5110.000000\n",
              "mean       28.893237\n",
              "std         7.698018\n",
              "min        10.300000\n",
              "25%        23.800000\n",
              "50%        28.400000\n",
              "75%        32.800000\n",
              "max        97.600000\n",
              "Name: bmi, dtype: float64"
            ]
          },
          "metadata": {},
          "execution_count": 301
        }
      ]
    },
    {
      "cell_type": "markdown",
      "source": [
        "#### Integer column"
      ],
      "metadata": {
        "id": "Kpk--pRkEI_i"
      }
    },
    {
      "cell_type": "code",
      "source": [
        "# find integer columns\n",
        "integer_cols = df_types[df_copy.dtypes=='int64'].index\n",
        "integer_cols"
      ],
      "metadata": {
        "colab": {
          "base_uri": "https://localhost:8080/"
        },
        "id": "dfd13fHFENWi",
        "outputId": "7d8da29e-12f5-4929-9754-1a43e7fcc11f"
      },
      "execution_count": 302,
      "outputs": [
        {
          "output_type": "execute_result",
          "data": {
            "text/plain": [
              "Index(['hypertension', 'heart_disease', 'stroke'], dtype='object')"
            ]
          },
          "metadata": {},
          "execution_count": 302
        }
      ]
    },
    {
      "cell_type": "markdown",
      "source": [
        "##### **hypertension column**"
      ],
      "metadata": {
        "id": "MSo2A5OkEqyz"
      }
    },
    {
      "cell_type": "code",
      "source": [
        "df_copy['hypertension'].unique()"
      ],
      "metadata": {
        "colab": {
          "base_uri": "https://localhost:8080/"
        },
        "id": "2DpFbi4DEwHB",
        "outputId": "c15322ab-5c14-4b9d-f763-db4338b6fa8b"
      },
      "execution_count": 303,
      "outputs": [
        {
          "output_type": "execute_result",
          "data": {
            "text/plain": [
              "array([0, 1])"
            ]
          },
          "metadata": {},
          "execution_count": 303
        }
      ]
    },
    {
      "cell_type": "markdown",
      "source": [
        "##### **heart_disease column**"
      ],
      "metadata": {
        "id": "YGDL8-P3E73p"
      }
    },
    {
      "cell_type": "code",
      "source": [
        "df_copy['heart_disease'].unique()"
      ],
      "metadata": {
        "colab": {
          "base_uri": "https://localhost:8080/"
        },
        "id": "a3oeCuILFCnJ",
        "outputId": "fb819e0e-43cc-4034-b760-cf470a602406"
      },
      "execution_count": 304,
      "outputs": [
        {
          "output_type": "execute_result",
          "data": {
            "text/plain": [
              "array([1, 0])"
            ]
          },
          "metadata": {},
          "execution_count": 304
        }
      ]
    },
    {
      "cell_type": "markdown",
      "source": [
        "##### **stroke column**"
      ],
      "metadata": {
        "id": "WHbqxXxAFJdx"
      }
    },
    {
      "cell_type": "code",
      "source": [
        "df_copy['stroke'].unique()"
      ],
      "metadata": {
        "colab": {
          "base_uri": "https://localhost:8080/"
        },
        "id": "Q9VPDmBvFSxx",
        "outputId": "c4f539f8-b601-4bc9-bc0f-fda596419a8a"
      },
      "execution_count": 305,
      "outputs": [
        {
          "output_type": "execute_result",
          "data": {
            "text/plain": [
              "array([1, 0])"
            ]
          },
          "metadata": {},
          "execution_count": 305
        }
      ]
    },
    {
      "cell_type": "markdown",
      "source": [
        "### Summary statistics for numeric columns"
      ],
      "metadata": {
        "id": "BXLDmY63F8Po"
      }
    },
    {
      "cell_type": "code",
      "source": [
        "df_copy.describe()"
      ],
      "metadata": {
        "colab": {
          "base_uri": "https://localhost:8080/",
          "height": 300
        },
        "id": "BkDCctMUGIu5",
        "outputId": "7f8bd6dd-d69f-417c-95b9-baa8a103d0bf"
      },
      "execution_count": 306,
      "outputs": [
        {
          "output_type": "execute_result",
          "data": {
            "text/plain": [
              "               age  hypertension  heart_disease  avg_glucose_level  \\\n",
              "count  5110.000000   5110.000000    5110.000000        5110.000000   \n",
              "mean     43.226614      0.097456       0.054012         106.147677   \n",
              "std      22.612647      0.296607       0.226063          45.283560   \n",
              "min       0.080000      0.000000       0.000000          55.120000   \n",
              "25%      25.000000      0.000000       0.000000          77.245000   \n",
              "50%      45.000000      0.000000       0.000000          91.885000   \n",
              "75%      61.000000      0.000000       0.000000         114.090000   \n",
              "max      82.000000      1.000000       1.000000         271.740000   \n",
              "\n",
              "               bmi       stroke  \n",
              "count  5110.000000  5110.000000  \n",
              "mean     28.893237     0.048728  \n",
              "std       7.698018     0.215320  \n",
              "min      10.300000     0.000000  \n",
              "25%      23.800000     0.000000  \n",
              "50%      28.400000     0.000000  \n",
              "75%      32.800000     0.000000  \n",
              "max      97.600000     1.000000  "
            ],
            "text/html": [
              "\n",
              "  <div id=\"df-b6e48b7d-ff1e-4dea-8354-ac0d5bd9411b\">\n",
              "    <div class=\"colab-df-container\">\n",
              "      <div>\n",
              "<style scoped>\n",
              "    .dataframe tbody tr th:only-of-type {\n",
              "        vertical-align: middle;\n",
              "    }\n",
              "\n",
              "    .dataframe tbody tr th {\n",
              "        vertical-align: top;\n",
              "    }\n",
              "\n",
              "    .dataframe thead th {\n",
              "        text-align: right;\n",
              "    }\n",
              "</style>\n",
              "<table border=\"1\" class=\"dataframe\">\n",
              "  <thead>\n",
              "    <tr style=\"text-align: right;\">\n",
              "      <th></th>\n",
              "      <th>age</th>\n",
              "      <th>hypertension</th>\n",
              "      <th>heart_disease</th>\n",
              "      <th>avg_glucose_level</th>\n",
              "      <th>bmi</th>\n",
              "      <th>stroke</th>\n",
              "    </tr>\n",
              "  </thead>\n",
              "  <tbody>\n",
              "    <tr>\n",
              "      <th>count</th>\n",
              "      <td>5110.000000</td>\n",
              "      <td>5110.000000</td>\n",
              "      <td>5110.000000</td>\n",
              "      <td>5110.000000</td>\n",
              "      <td>5110.000000</td>\n",
              "      <td>5110.000000</td>\n",
              "    </tr>\n",
              "    <tr>\n",
              "      <th>mean</th>\n",
              "      <td>43.226614</td>\n",
              "      <td>0.097456</td>\n",
              "      <td>0.054012</td>\n",
              "      <td>106.147677</td>\n",
              "      <td>28.893237</td>\n",
              "      <td>0.048728</td>\n",
              "    </tr>\n",
              "    <tr>\n",
              "      <th>std</th>\n",
              "      <td>22.612647</td>\n",
              "      <td>0.296607</td>\n",
              "      <td>0.226063</td>\n",
              "      <td>45.283560</td>\n",
              "      <td>7.698018</td>\n",
              "      <td>0.215320</td>\n",
              "    </tr>\n",
              "    <tr>\n",
              "      <th>min</th>\n",
              "      <td>0.080000</td>\n",
              "      <td>0.000000</td>\n",
              "      <td>0.000000</td>\n",
              "      <td>55.120000</td>\n",
              "      <td>10.300000</td>\n",
              "      <td>0.000000</td>\n",
              "    </tr>\n",
              "    <tr>\n",
              "      <th>25%</th>\n",
              "      <td>25.000000</td>\n",
              "      <td>0.000000</td>\n",
              "      <td>0.000000</td>\n",
              "      <td>77.245000</td>\n",
              "      <td>23.800000</td>\n",
              "      <td>0.000000</td>\n",
              "    </tr>\n",
              "    <tr>\n",
              "      <th>50%</th>\n",
              "      <td>45.000000</td>\n",
              "      <td>0.000000</td>\n",
              "      <td>0.000000</td>\n",
              "      <td>91.885000</td>\n",
              "      <td>28.400000</td>\n",
              "      <td>0.000000</td>\n",
              "    </tr>\n",
              "    <tr>\n",
              "      <th>75%</th>\n",
              "      <td>61.000000</td>\n",
              "      <td>0.000000</td>\n",
              "      <td>0.000000</td>\n",
              "      <td>114.090000</td>\n",
              "      <td>32.800000</td>\n",
              "      <td>0.000000</td>\n",
              "    </tr>\n",
              "    <tr>\n",
              "      <th>max</th>\n",
              "      <td>82.000000</td>\n",
              "      <td>1.000000</td>\n",
              "      <td>1.000000</td>\n",
              "      <td>271.740000</td>\n",
              "      <td>97.600000</td>\n",
              "      <td>1.000000</td>\n",
              "    </tr>\n",
              "  </tbody>\n",
              "</table>\n",
              "</div>\n",
              "      <button class=\"colab-df-convert\" onclick=\"convertToInteractive('df-b6e48b7d-ff1e-4dea-8354-ac0d5bd9411b')\"\n",
              "              title=\"Convert this dataframe to an interactive table.\"\n",
              "              style=\"display:none;\">\n",
              "        \n",
              "  <svg xmlns=\"http://www.w3.org/2000/svg\" height=\"24px\"viewBox=\"0 0 24 24\"\n",
              "       width=\"24px\">\n",
              "    <path d=\"M0 0h24v24H0V0z\" fill=\"none\"/>\n",
              "    <path d=\"M18.56 5.44l.94 2.06.94-2.06 2.06-.94-2.06-.94-.94-2.06-.94 2.06-2.06.94zm-11 1L8.5 8.5l.94-2.06 2.06-.94-2.06-.94L8.5 2.5l-.94 2.06-2.06.94zm10 10l.94 2.06.94-2.06 2.06-.94-2.06-.94-.94-2.06-.94 2.06-2.06.94z\"/><path d=\"M17.41 7.96l-1.37-1.37c-.4-.4-.92-.59-1.43-.59-.52 0-1.04.2-1.43.59L10.3 9.45l-7.72 7.72c-.78.78-.78 2.05 0 2.83L4 21.41c.39.39.9.59 1.41.59.51 0 1.02-.2 1.41-.59l7.78-7.78 2.81-2.81c.8-.78.8-2.07 0-2.86zM5.41 20L4 18.59l7.72-7.72 1.47 1.35L5.41 20z\"/>\n",
              "  </svg>\n",
              "      </button>\n",
              "      \n",
              "  <style>\n",
              "    .colab-df-container {\n",
              "      display:flex;\n",
              "      flex-wrap:wrap;\n",
              "      gap: 12px;\n",
              "    }\n",
              "\n",
              "    .colab-df-convert {\n",
              "      background-color: #E8F0FE;\n",
              "      border: none;\n",
              "      border-radius: 50%;\n",
              "      cursor: pointer;\n",
              "      display: none;\n",
              "      fill: #1967D2;\n",
              "      height: 32px;\n",
              "      padding: 0 0 0 0;\n",
              "      width: 32px;\n",
              "    }\n",
              "\n",
              "    .colab-df-convert:hover {\n",
              "      background-color: #E2EBFA;\n",
              "      box-shadow: 0px 1px 2px rgba(60, 64, 67, 0.3), 0px 1px 3px 1px rgba(60, 64, 67, 0.15);\n",
              "      fill: #174EA6;\n",
              "    }\n",
              "\n",
              "    [theme=dark] .colab-df-convert {\n",
              "      background-color: #3B4455;\n",
              "      fill: #D2E3FC;\n",
              "    }\n",
              "\n",
              "    [theme=dark] .colab-df-convert:hover {\n",
              "      background-color: #434B5C;\n",
              "      box-shadow: 0px 1px 3px 1px rgba(0, 0, 0, 0.15);\n",
              "      filter: drop-shadow(0px 1px 2px rgba(0, 0, 0, 0.3));\n",
              "      fill: #FFFFFF;\n",
              "    }\n",
              "  </style>\n",
              "\n",
              "      <script>\n",
              "        const buttonEl =\n",
              "          document.querySelector('#df-b6e48b7d-ff1e-4dea-8354-ac0d5bd9411b button.colab-df-convert');\n",
              "        buttonEl.style.display =\n",
              "          google.colab.kernel.accessAllowed ? 'block' : 'none';\n",
              "\n",
              "        async function convertToInteractive(key) {\n",
              "          const element = document.querySelector('#df-b6e48b7d-ff1e-4dea-8354-ac0d5bd9411b');\n",
              "          const dataTable =\n",
              "            await google.colab.kernel.invokeFunction('convertToInteractive',\n",
              "                                                     [key], {});\n",
              "          if (!dataTable) return;\n",
              "\n",
              "          const docLinkHtml = 'Like what you see? Visit the ' +\n",
              "            '<a target=\"_blank\" href=https://colab.research.google.com/notebooks/data_table.ipynb>data table notebook</a>'\n",
              "            + ' to learn more about interactive tables.';\n",
              "          element.innerHTML = '';\n",
              "          dataTable['output_type'] = 'display_data';\n",
              "          await google.colab.output.renderOutput(dataTable, element);\n",
              "          const docLink = document.createElement('div');\n",
              "          docLink.innerHTML = docLinkHtml;\n",
              "          element.appendChild(docLink);\n",
              "        }\n",
              "      </script>\n",
              "    </div>\n",
              "  </div>\n",
              "  "
            ]
          },
          "metadata": {},
          "execution_count": 306
        }
      ]
    },
    {
      "cell_type": "markdown",
      "source": [
        "# Exploratory Visual and Analysis"
      ],
      "metadata": {
        "id": "GwCw_jmjE3NS"
      }
    },
    {
      "cell_type": "markdown",
      "source": [
        "#### Number of patients who had stroke"
      ],
      "metadata": {
        "id": "kKitFpYzHF6X"
      }
    },
    {
      "cell_type": "code",
      "source": [
        "#Count of patients\n",
        "stroke_values = df_copy['stroke'].value_counts(normalize=True)\n",
        "print('Number of patient had stroke (1) or not (0)')\n",
        "print(stroke_values)\n",
        "print('\\n')\n",
        "print('\\n')\n",
        "stroke_values.plot(kind = 'bar', color = ['blue','red'])\n",
        "plt.title('Number of patient who had stroke (1) or not (0)', fontsize = 12, fontweight = 'bold')\n",
        "plt.ylabel('Count')\n",
        "#plt.xlabel('0'='no stroke', '1'='stroke')\n",
        "plt.show()\n"
      ],
      "metadata": {
        "colab": {
          "base_uri": "https://localhost:8080/",
          "height": 417
        },
        "id": "rpvbZcP2Aghe",
        "outputId": "c9653c64-5f14-4d86-bb02-82cdc54d42f7"
      },
      "execution_count": 307,
      "outputs": [
        {
          "output_type": "stream",
          "name": "stdout",
          "text": [
            "Number of patient had stroke (1) or not (0)\n",
            "0    0.951272\n",
            "1    0.048728\n",
            "Name: stroke, dtype: float64\n",
            "\n",
            "\n",
            "\n",
            "\n"
          ]
        },
        {
          "output_type": "display_data",
          "data": {
            "text/plain": [
              "<Figure size 432x288 with 1 Axes>"
            ],
            "image/png": "[encoded data removed]"
          },
          "metadata": {
            "needs_background": "light"
          }
        }
      ]
    },
    {
      "cell_type": "markdown",
      "source": [
        "The dataset is unbalaced: 95% od patients did't have stroke and less than 5% of patients had a stroke\n",
        "\n"
      ],
      "metadata": {
        "id": "5kRcVIK0Lf4p"
      }
    },
    {
      "cell_type": "markdown",
      "source": [
        "#### Comparation of all features in patients who had a stroke and didn't have. "
      ],
      "metadata": {
        "id": "nsuHo5UcH-FO"
      }
    },
    {
      "cell_type": "markdown",
      "source": [
        "##### Split the dataset in patients who had stroke or not"
      ],
      "metadata": {
        "id": "ec3uBJvHHXne"
      }
    },
    {
      "cell_type": "code",
      "source": [
        "# had stroke \n",
        "df_stroke = df_copy.loc[df_copy['stroke']==1]\n",
        "# no stroke\n",
        "df_no_stroke = df_copy.loc[df_copy['stroke']==0]\n"
      ],
      "metadata": {
        "id": "jHUwSScaFl9J"
      },
      "execution_count": 308,
      "outputs": []
    },
    {
      "cell_type": "markdown",
      "source": [
        "##### Create a function to plot a histogram and boxplot for the selected column"
      ],
      "metadata": {
        "id": "r_qZKZbDItLs"
      }
    },
    {
      "cell_type": "code",
      "source": [
        "def plot_numeric(df1,df2,col):\n",
        "  # function to plot a histogram and boxplot for the selected column\"\"\"\n",
        "  ## make the figure and axes sharing the same x-axis\n",
        "  fig, axes = plt.subplots(nrows=4, figsize=(10,10), sharex=True)\n",
        "\n",
        "  ## Use seaborn plots with ax=axes[i]\n",
        "  sns.histplot(data=df1,x = col,ax = axes[0])\n",
        "  mean_value = df1[col].mean()\n",
        "  axes[0].axvline(mean_value,color='red', ls='--', \n",
        "           label=f\"Mean Value = ${mean_value:,.2f}\",);\n",
        "  axes[0].legend()\n",
        "\n",
        "  med_value = df1[col].median()\n",
        "  axes[0].axvline(med_value,color='black', ls='--', \n",
        "           label=f\"Median Value = ${med_value:,.2f}\");\n",
        "  axes[0].legend()\n",
        "\n",
        "\n",
        "  sns.boxplot(data=df1, x = col, ax = axes[1])\n",
        "\n",
        "  ## Updating title of top graph to df1  \n",
        "  axes[0].set_title(f' Distribution of {col} in patients who had stoke', fontsize = 15, fontweight = 'bold')\n",
        "\n",
        "\n",
        "  sns.histplot(data=df2,x = col,ax = axes[2])\n",
        "  mean_value = df2[col].mean()\n",
        "  axes[2].axvline(mean_value,color='red', ls='--', \n",
        "           label=f\"Mean Value = ${mean_value:,.2f}\",);\n",
        "  axes[2].legend()\n",
        "\n",
        "  med_value = df2[col].median()\n",
        "  axes[2].axvline(med_value,color='black', ls='--', \n",
        "           label=f\"Median Value = ${med_value:,.2f}\");\n",
        "  axes[2].legend()\n",
        "\n",
        "\n",
        "  sns.boxplot(data=df2, x = col, ax = axes[3])\n",
        "\n",
        "  ## Updating title of top graph to df 2 \n",
        "  axes[2].set_title(f'Distribution of {col} in patients who did not have stroke', fontsize = 15, fontweight = 'bold' )\n",
        "\n",
        "  ## Fixing any overlapping labels and showing\n",
        "  plt.tight_layout()\n",
        "  plt.show()"
      ],
      "metadata": {
        "id": "hRl19p4WNcA-"
      },
      "execution_count": 309,
      "outputs": []
    },
    {
      "cell_type": "markdown",
      "source": [
        "###### **Age distribution** "
      ],
      "metadata": {
        "id": "0vnfruwBWa0-"
      }
    },
    {
      "cell_type": "code",
      "source": [
        "plot_numeric(df_stroke, df_no_stroke, 'age')"
      ],
      "metadata": {
        "colab": {
          "base_uri": "https://localhost:8080/",
          "height": 729
        },
        "id": "dEqhpr2TJk9X",
        "outputId": "b23afaf2-92fe-4fb1-e052-39eec028ab12"
      },
      "execution_count": 310,
      "outputs": [
        {
          "output_type": "display_data",
          "data": {
            "text/plain": [
              "<Figure size 720x720 with 4 Axes>"
            ],
            "image/png": "[encoded data removed]"
          },
          "metadata": {
            "needs_background": "light"
          }
        }
      ]
    },
    {
      "cell_type": "markdown",
      "source": [
        "Most of patients who had stroke are older than 40 years old. We can see only 2 outliers in boxplot and the median age is 71 years old. In patients who didn't have stroke the age goes to 0 to 80 years old and the median is 43 years old.  "
      ],
      "metadata": {
        "id": "w2IMnFxoUAMQ"
      }
    },
    {
      "cell_type": "markdown",
      "source": [
        "###### **Average of glucose level distribution** "
      ],
      "metadata": {
        "id": "Kq6ddLO8Zx1K"
      }
    },
    {
      "cell_type": "code",
      "source": [
        "plot_numeric(df_stroke, df_no_stroke, 'avg_glucose_level')"
      ],
      "metadata": {
        "colab": {
          "base_uri": "https://localhost:8080/",
          "height": 729
        },
        "id": "HRV7GIEhT_sN",
        "outputId": "991845cd-5151-4b38-b2d8-dc400e02cc24"
      },
      "execution_count": 311,
      "outputs": [
        {
          "output_type": "display_data",
          "data": {
            "text/plain": [
              "<Figure size 720x720 with 4 Axes>"
            ],
            "image/png": "[encoded data removed]"
          },
          "metadata": {
            "needs_background": "light"
          }
        }
      ]
    },
    {
      "cell_type": "markdown",
      "source": [
        "In patients who didn't have stroke there are more outliers in average of glucose level. The mean in patients who had stroke is higher (132.54) than in patients who didn't have (104,80). Most of patients in both group have average of glucose between 60 and 120.  "
      ],
      "metadata": {
        "id": "4MORyf4kXnzk"
      }
    },
    {
      "cell_type": "markdown",
      "source": [
        "###### **Bmi distribution**"
      ],
      "metadata": {
        "id": "Mu9klhgVaEFJ"
      }
    },
    {
      "cell_type": "code",
      "source": [
        "plot_numeric(df_stroke, df_no_stroke, 'bmi')"
      ],
      "metadata": {
        "colab": {
          "base_uri": "https://localhost:8080/",
          "height": 729
        },
        "id": "01TZtYp_Y-bR",
        "outputId": "bd2d83d7-8f7a-4734-92bf-0d1262f5c93c"
      },
      "execution_count": 312,
      "outputs": [
        {
          "output_type": "display_data",
          "data": {
            "text/plain": [
              "<Figure size 720x720 with 4 Axes>"
            ],
            "image/png": "[encoded data removed]"
          },
          "metadata": {
            "needs_background": "light"
          }
        }
      ]
    },
    {
      "cell_type": "markdown",
      "source": [
        "In patients who didn't have stroke there are more outliers in bmi. The max in patients who had stroke is about 60 and in patients who didn't have the max is about 100. "
      ],
      "metadata": {
        "id": "tC05qCn_dLOt"
      }
    },
    {
      "cell_type": "markdown",
      "source": [
        "##### Create a function to plot a barplot"
      ],
      "metadata": {
        "id": "LyTaGnIwaZvi"
      }
    },
    {
      "cell_type": "code",
      "source": [
        "def plot_bar(df1,df2,x):\n",
        "    ## Make a larger fig/ax before plotting\n",
        "    fig, axes = plt.subplots(ncols=2, figsize=(12,5))\n",
        "    ## counts, counts up the categories, sort the values, then puts them in a data frame.\n",
        "    # count df1 = stroke\n",
        "    counts_stroke = df1[x].value_counts(normalize=True).sort_values(ascending=False).to_frame()\n",
        "    ## ploting the barplot of df_stroke\n",
        "    sns.barplot(data=counts_stroke,x=counts_stroke.index, y = counts_stroke[x], ax = axes[0])\n",
        "    axes[0].set_title('had stroke', fontsize = 15, fontweight = 'bold')\n",
        "    \n",
        "    # count df2= no_stroke \n",
        "    counts_no_stroke = df2[x].value_counts(normalize=True).sort_values(ascending=False).to_frame()\n",
        "    ## ploting the barplot of df_no_stroke\n",
        "    sns.barplot(data=counts_no_stroke,x=counts_no_stroke.index, y = counts_no_stroke[x], ax = axes[1])\n",
        "    axes[1].set_title('no stroke', fontsize = 15, fontweight = 'bold' )\n",
        "    \n",
        "\n",
        "    \n",
        "    fig.suptitle(f'{x} in patients who:', fontsize = 20, fontweight = 'bold', y = 1.05)\n",
        "    plt.tight_layout()\n"
      ],
      "metadata": {
        "id": "BfWW7jkYaptY"
      },
      "execution_count": 313,
      "outputs": []
    },
    {
      "cell_type": "markdown",
      "source": [
        "###### **Ever married distribution**"
      ],
      "metadata": {
        "id": "5vI-3M-5j5xf"
      }
    },
    {
      "cell_type": "code",
      "source": [
        "plot_bar(df_stroke, df_no_stroke, 'ever_married')"
      ],
      "metadata": {
        "colab": {
          "base_uri": "https://localhost:8080/",
          "height": 392
        },
        "id": "SN4c29ZhbyQ5",
        "outputId": "876b5c63-959e-4ac0-f6e8-98f9041d0c05"
      },
      "execution_count": 314,
      "outputs": [
        {
          "output_type": "display_data",
          "data": {
            "text/plain": [
              "<Figure size 864x360 with 2 Axes>"
            ],
            "image/png": "[encoded data removed]"
          },
          "metadata": {
            "needs_background": "light"
          }
        }
      ]
    },
    {
      "cell_type": "markdown",
      "source": [
        "In patients who didn't have stroke the number of no married is bigger (about 30%) than in patients who had stroke (less than 10%)"
      ],
      "metadata": {
        "id": "Bn7aszhBs71L"
      }
    },
    {
      "cell_type": "markdown",
      "source": [
        "###### **Gender distribution**"
      ],
      "metadata": {
        "id": "Nwfia_QrlFwF"
      }
    },
    {
      "cell_type": "code",
      "source": [
        "plot_bar(df_stroke, df_no_stroke, 'gender')"
      ],
      "metadata": {
        "colab": {
          "base_uri": "https://localhost:8080/",
          "height": 392
        },
        "id": "e2f-vVZ4k68s",
        "outputId": "16ffd9c7-642b-42b4-9a63-cdcaaa84b3bf"
      },
      "execution_count": 315,
      "outputs": [
        {
          "output_type": "display_data",
          "data": {
            "text/plain": [
              "<Figure size 864x360 with 2 Axes>"
            ],
            "image/png": "[encoded data removed]"
          },
          "metadata": {
            "needs_background": "light"
          }
        }
      ]
    },
    {
      "cell_type": "markdown",
      "source": [
        "In both group more the 50% of patients are female. "
      ],
      "metadata": {
        "id": "m9R0JvE7kRCk"
      }
    },
    {
      "cell_type": "markdown",
      "source": [
        "###### **Work_type distributio**n"
      ],
      "metadata": {
        "id": "sgXaKVotlejb"
      }
    },
    {
      "cell_type": "code",
      "source": [
        "plot_bar(df_stroke, df_no_stroke, 'work_type')"
      ],
      "metadata": {
        "colab": {
          "base_uri": "https://localhost:8080/",
          "height": 394
        },
        "id": "4wrZwq-2loqr",
        "outputId": "2e2a4a86-ed16-445d-c3cc-9c6872dcbf41"
      },
      "execution_count": 316,
      "outputs": [
        {
          "output_type": "display_data",
          "data": {
            "text/plain": [
              "<Figure size 864x360 with 2 Axes>"
            ],
            "image/png": "[encoded data removed]"
          },
          "metadata": {
            "needs_background": "light"
          }
        }
      ]
    },
    {
      "cell_type": "markdown",
      "source": [
        "In patients who did not have stroke there are more children. "
      ],
      "metadata": {
        "id": "MHJxcebDm4Az"
      }
    },
    {
      "cell_type": "markdown",
      "source": [
        "###### **Residence type distribution**"
      ],
      "metadata": {
        "id": "o1QUZnt4oJto"
      }
    },
    {
      "cell_type": "code",
      "source": [
        "plot_bar(df_stroke, df_no_stroke, 'Residence_type')"
      ],
      "metadata": {
        "colab": {
          "base_uri": "https://localhost:8080/",
          "height": 392
        },
        "id": "Gt404Fy6nNxq",
        "outputId": "625a704a-3e1e-4abb-bf9f-2cfecc6c3b1c"
      },
      "execution_count": 317,
      "outputs": [
        {
          "output_type": "display_data",
          "data": {
            "text/plain": [
              "<Figure size 864x360 with 2 Axes>"
            ],
            "image/png": "[encoded data removed]"
          },
          "metadata": {
            "needs_background": "light"
          }
        }
      ]
    },
    {
      "cell_type": "markdown",
      "source": [
        "Patients who had stroke about 55% live in urban area and 45% in rural area. In patients who did not have stroke is very similar the type of residence. \n"
      ],
      "metadata": {
        "id": "RRETHWsZiqFP"
      }
    },
    {
      "cell_type": "markdown",
      "source": [
        "###### **Smoking_status distribution**"
      ],
      "metadata": {
        "id": "_FkaYQbIpHRY"
      }
    },
    {
      "cell_type": "code",
      "source": [
        "plot_bar(df_stroke, df_no_stroke, 'smoking_status')"
      ],
      "metadata": {
        "colab": {
          "base_uri": "https://localhost:8080/",
          "height": 392
        },
        "id": "YRfN0dCCoICQ",
        "outputId": "56fc2b11-c3ae-403f-f49d-db3fd72a23ed"
      },
      "execution_count": 318,
      "outputs": [
        {
          "output_type": "display_data",
          "data": {
            "text/plain": [
              "<Figure size 864x360 with 2 Axes>"
            ],
            "image/png": "[encoded data removed]"
          },
          "metadata": {
            "needs_background": "light"
          }
        }
      ]
    },
    {
      "cell_type": "markdown",
      "source": [
        "The number of patients who had stroke that formerly smoked is bigger (more than 25%) than in patients who did not have stroke (about 15%)"
      ],
      "metadata": {
        "id": "zQsQW3gHpljH"
      }
    },
    {
      "cell_type": "markdown",
      "source": [
        "###### **Hypertension distribution**"
      ],
      "metadata": {
        "id": "btBWFkM1qLTG"
      }
    },
    {
      "cell_type": "code",
      "source": [
        "plot_bar(df_stroke, df_no_stroke, 'hypertension')"
      ],
      "metadata": {
        "colab": {
          "base_uri": "https://localhost:8080/",
          "height": 392
        },
        "id": "t6Z_Dd4cqhEW",
        "outputId": "c8505f56-cc9e-468d-b142-bfb0bf1c55f4"
      },
      "execution_count": 319,
      "outputs": [
        {
          "output_type": "display_data",
          "data": {
            "text/plain": [
              "<Figure size 864x360 with 2 Axes>"
            ],
            "image/png": "[encoded data removed]"
          },
          "metadata": {
            "needs_background": "light"
          }
        }
      ]
    },
    {
      "cell_type": "markdown",
      "source": [
        "In patients who had stroke the number of hypertension is bigger (about 25%) than in patients who didn't have stroke (less than 10%)"
      ],
      "metadata": {
        "id": "qTtn4kNhqqm_"
      }
    },
    {
      "cell_type": "markdown",
      "source": [
        "###### **Heart disease distribution**  "
      ],
      "metadata": {
        "id": "WYrlxofkrVPd"
      }
    },
    {
      "cell_type": "code",
      "source": [
        "plot_bar(df_stroke, df_no_stroke, 'heart_disease')"
      ],
      "metadata": {
        "colab": {
          "base_uri": "https://localhost:8080/",
          "height": 392
        },
        "id": "hvpAohvCrmTc",
        "outputId": "8e12fc4e-3542-4239-8535-ba772dbafda7"
      },
      "execution_count": 320,
      "outputs": [
        {
          "output_type": "display_data",
          "data": {
            "text/plain": [
              "<Figure size 864x360 with 2 Axes>"
            ],
            "image/png": "[encoded data removed]"
          },
          "metadata": {
            "needs_background": "light"
          }
        }
      ]
    },
    {
      "cell_type": "markdown",
      "source": [
        "In patients who had stroke about 20% have heart disease and in patients who didn't have stroke less than 5% have heart disease."
      ],
      "metadata": {
        "id": "ovu2aueir0Kk"
      }
    }
  ]
}